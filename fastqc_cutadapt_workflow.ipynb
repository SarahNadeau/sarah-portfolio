{
 "cells": [
  {
   "cell_type": "markdown",
   "metadata": {},
   "source": [
    "# Remove nextera sequencing adapters, check sequence quality"
   ]
  },
  {
   "cell_type": "code",
   "execution_count": null,
   "metadata": {
    "collapsed": true
   },
   "outputs": [],
   "source": [
    "# 12/03 on machine cbsumm29 in tmux session sarah1203 \n",
    "# in folder /workdir/LD_copies\n",
    "\n",
    "# copy samples into workdir\n",
    "cd /workdir\n",
    "cp /home/jps2_0001/LD_samples/*fastq.gz .\n",
    "\n",
    "# testing\n",
    "# run fastqc in non-interactive mode\n",
    "fastqc <H02>.fastq.gz # produces html file with fastqc results\n",
    "# nextera transposace sequence from http://seqanswers.com/forums/showthread.php?t=49702\n",
    "cutadapt -a CTGTCTCTTATA -o H02_adapter_removed.fastq.gz <H02>.fastq.gz \n",
    "\n",
    "# check that adapters have been removed\n",
    "fastqc H02_adapter_removed.fastq.gz\n",
    "\n",
    "# do for all\n",
    "for i in $(find ./ -name '*.fastq.gz')\n",
    "do\n",
    "  NEWNAME=\"${i/%.fastq.gz/adptr_rm.fastq.gz}\"\n",
    "  cutadapt -a CTGTCTCTTATA -o \"$NEWNAME\" \"$i\"\n",
    "done\n",
    "\n",
    "# trimmed file names\n",
    "# run fastqc to check results of cutadapt\n",
    "for i in $(find ./ -name '*adptr_rm.fastq.gz')\n",
    "do\n",
    "  fastqc \"$i\"\n",
    "done"
   ]
  }
 ],
 "metadata": {
  "kernelspec": {
   "display_name": "Python 3",
   "language": "python",
   "name": "python3"
  },
  "language_info": {
   "codemirror_mode": {
    "name": "ipython",
    "version": 3
   },
   "file_extension": ".py",
   "mimetype": "text/x-python",
   "name": "python",
   "nbconvert_exporter": "python",
   "pygments_lexer": "ipython3",
   "version": "3.6.1"
  }
 },
 "nbformat": 4,
 "nbformat_minor": 2
}
